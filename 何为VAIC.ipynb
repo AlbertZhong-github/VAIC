{
 "cells": [
  {
   "cell_type": "markdown",
   "metadata": {},
   "source": [
    "\n",
    "#  何为VAIC\n",
    "VAIC是在V5机器人竞赛规定的赛场、机器人结构材料、运动部件、控制硬件、软件开发平台及传感器的基础上， 引进了NVIDIA公司Jetson边缘计算平台的硬件和软件，实现了V5机器人竞赛的全自动化和智能化， 使得VEX机器人竞赛可以追随当前AI技术迅速普及、发展的历史进程。<br>\n",
    "## VAIC为实现AI化的设备和硬件的技术升级：\n"
   ]
  },
  {
   "cell_type": "markdown",
   "metadata": {},
   "source": [
    "### (1)引入Jetson Nano边缘计算平台： \n",
    "Jetson Nano是一个以Ubuntu 18.04 LTS作为操作系统、带有GPU加速芯片的小型嵌入式工业级计算机，作为VAIC的AI功能的计算平台。<br>\n",
    " NVIDIA Jetson Nano是一款紧凑型但功能强大的人工智能计算设备，旨在为各种边缘计算应用提供高性能AI推理能力。 <br>\n",
    " 它配备了四核ARM Cortex-A57 CPU和128核Maxwell GPU，支持多种现代AI框架，如TensorFlow、PyTorch 和OpenCV。 <br>\n",
    " Jetson Nano适用于机器人、智能相机和物联网设备等应用，提供高达472GFLOPs的处理能力，使其成为开发者 和研究人员进行AI项目的理想平台。<br>\n",
    " Jetson Nano还安装了NVIDIA的TensorRT推理加速软件， NVIDIA的TensorRT是一个高性能深度学习推理（inference）引擎， 用于生产环境部署。TensorRT可以显著提高推理速度和效率，适用于NVIDIA GPU，它通过优化网络模型，减少所需的计算资源， 同时保持高精度，支持多种深度学习框架。 TensorRT特别适合处理图像识别、自然语言处理等任务，广泛应用于汽车、机器人、游戏、云计算等领域。<br>\n"
   ]
  },
  {
   "cell_type": "markdown",
   "metadata": {},
   "source": [
    "<img src=\"./jetson-nano.jpg\" width=\"500\" height=\"350\">"
   ]
  },
  {
   "cell_type": "markdown",
   "metadata": {},
   "source": [
    "### (2)选用Intel RealSense双目测距摄像头： \n",
    "Intel RealSense双目测距摄像头是竞赛场地环境定位、目标物识别及其位置和距离判断、运动路径规划等智能认知行为基础的视觉系统。<br>\n",
    "Intel RealSense D435摄像头使用立体视觉技术进行测距。它配备了两个红外摄像头和一个红外激光投影仪，可以创建深度图像。<br>\n",
    "D435通过测量由激光投影仪发射的红外光在物体上的反射时间来计算距离，从而实现对场景深度的精确测量。<br>\n",
    "这种技术允许D435捕捉更细腻的深度细节，有效距离从0.2米到最多10米。此外，D435支持多种深度分辨率和帧率配置，\n",
    "同时也配备了普通高分辨率的RGB摄像头，对目标物外形和色彩进行判断。<br>"
   ]
  },
  {
   "cell_type": "markdown",
   "metadata": {},
   "source": [
    "<img src=\"./Intel435.jpg\" width=\"500\" height=\"300\">"
   ]
  },
  {
   "cell_type": "markdown",
   "metadata": {},
   "source": [
    "### (3)引入YOLOv3为基础的深度神经网络："
   ]
  },
  {
   "cell_type": "markdown",
   "metadata": {},
   "source": [
    "&nbsp;&nbsp;&nbsp;&nbsp;&nbsp;\n",
    "YOLOv3（You Only Look Once版本3）是一个深度学习的实时目标检测系统，由Joseph Redmon和其他研究者开发。<br>\n",
    "它能够在单次前向传播中检测图片中的多个物体及其类别，与先前的版本相比，YOLOv3在速度和准确性上都有显著提升。<br>\n",
    "主要特性：<br>\n",
    "速度与准确性：YOLOv3可以实现实时目标检测，同时保持较高的准确率。<br>\n",
    "Darknet-53：YOLOv3使用了新的卷积网络架构Darknet-53，比之前的Darknet-19层次更深，参数更多，检测精度更高。<br>\n",
    "多尺度检测：YOLOv3在三个不同尺度上进行预测，改进了对小尺寸物体的检测能力。<br>\n",
    "类别预测：它使用逻辑回归来预测不同的物体类别。<br>\n",
    "锚点机制：通过在训练过程中学习锚点来预测边界框，提高了模型的稳定性和泛化能力。<br>\n",
    "由于YOLOv3的开源和高度优化的实现，它在学术界和工业界都得到了广泛的应用。<br>\n",
    "当前，人工智能技术的突破主要是深度神经网络的应用，YOLOv3的引入和运用是VEX-5机器人竞赛AI化的重要标志。<br>\n"
   ]
  },
  {
   "cell_type": "markdown",
   "metadata": {},
   "source": [
    "&nbsp;&nbsp;&nbsp;\n",
    "下图为VAIC官方提供的VAIC整体硬件组成结构，我们将对其各个部分功能及相互关联进行说明。<br>\n",
    "图中左边显示的是VEX原有的硬件功能模块，右边部分显示的是新增的AI部分的硬件功能模块。<br>\n",
    "图中右下角的色块表示的是各模块连接导线的种类，与图中连接线颜色对应。可以看出Jetson Nano是通过红色VEX 3-Wire Connector to Barrel plug Cable供电。<br>\n",
    "利用VEX GPS检测到机器人在赛场上的当前位置，通过USB C Cable上传给Jetson Nano， 同样Jetson Nano视觉检测到的目标物位置数据通过Micro USB Cable传给VEX Brain。<br> \n",
    "图右边的AI部分显示Jetson Nano计算需要与四部分硬件连接：<br>\n",
    "1.MicroSD Card 烧入了VEX AI提供的vex_ai.img镜像文件，包含了Ubuntu18操作系统及Jetson Nano运行的所有软件。 <br> \n",
    "2.Intel WI-FI module 连接WI-FI的互联网通信硬件模块，以及两根配套的发送接受天线，为应用开发的互联网连接和图中未表示的WebDashBoard远程显示功能提供支持。<br>\n",
    "3.Intel RealSence Depth Camera 如上所述，实时采集环境图像的双目测距摄像头。 <br> \n",
    "4.VEX GPS Sensor VEX提供GPS传感器，通过相机对场地边条块码扫描，计算机器人在场地的位置，并上传到Jetson Nano运行的程序中，供视觉识别从视觉场景坐标到比赛场地的世界坐标变换使用。<br> \n",
    "以上是对VAIC硬件组成的简单说明，接下来我们将对VAIC的软件系统进行详细介绍。为与Jetson Nano边缘计算平台配合，原VEX brain软件编程将需要进行一些改动，这些内容在对我们将在对Jetson Nano和Vex Brian的软件进行说明时一并介绍。<br>\n"
   ]
  },
  {
   "cell_type": "markdown",
   "metadata": {},
   "source": [
    "<img src=\"./VAIC.jpg\" width=\"600\" height=\"400\">"
   ]
  }
 ],
 "metadata": {
  "language_info": {
   "name": "python"
  }
 },
 "nbformat": 4,
 "nbformat_minor": 2
}
